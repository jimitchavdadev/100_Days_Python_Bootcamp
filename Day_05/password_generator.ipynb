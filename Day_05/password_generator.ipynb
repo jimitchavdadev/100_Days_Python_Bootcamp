{
 "cells": [
  {
   "cell_type": "code",
   "execution_count": null,
   "metadata": {
    "vscode": {
     "languageId": "plaintext"
    }
   },
   "outputs": [],
   "source": [
    "import string\n",
    "from random import randint, shuffle\n",
    "\n",
    "# List of lowercase alphabets, digits, and symbols\n",
    "lowercase = list(string.ascii_lowercase)\n",
    "numbers = list(string.digits)\n",
    "symbols = list(string.punctuation)\n",
    "\n",
    "# Welcome message\n",
    "print(\"Welcome to the password generator!\")\n",
    "\n",
    "# Get user input\n",
    "alpha_num = int(input(\"How many unique letters do you want? \"))\n",
    "nums_num = int(input(\"How many unique digits do you want? \"))\n",
    "sym_num = int(input(\"How many unique symbols do you want? \"))\n",
    "\n",
    "# Ensure the input is valid\n",
    "if alpha_num > len(lowercase):\n",
    "    print(\"Not enough unique letters available!\")\n",
    "    exit()\n",
    "if nums_num > len(numbers):\n",
    "    print(\"Not enough unique digits available!\")\n",
    "    exit()\n",
    "if sym_num > len(symbols):\n",
    "    print(\"Not enough unique symbols available!\")\n",
    "    exit()\n",
    "\n",
    "password = []\n",
    "\n",
    "# Generate unique letters\n",
    "for i in range(alpha_num):\n",
    "    index = randint(0, len(lowercase) - 1)\n",
    "    letter = lowercase.pop(index)  # Remove and fetch the letter\n",
    "    password.append(letter)\n",
    "\n",
    "# Generate unique digits\n",
    "for i in range(nums_num):\n",
    "    index = randint(0, len(numbers) - 1)\n",
    "    digit = numbers.pop(index)  # Remove and fetch the digit\n",
    "    password.append(digit)\n",
    "\n",
    "# Generate unique symbols\n",
    "for i in range(sym_num):\n",
    "    index = randint(0, len(symbols) - 1)\n",
    "    symb = symbols.pop(index)  # Remove and fetch the symbol\n",
    "    password.append(symb)\n",
    "\n",
    "# Shuffle the password\n",
    "shuffle(password)\n",
    "\n",
    "# Convert list to a string and display\n",
    "final_password = ''.join(password)\n",
    "print(f\"Your password is: {final_password}\")\n"
   ]
  }
 ],
 "metadata": {
  "language_info": {
   "name": "python"
  }
 },
 "nbformat": 4,
 "nbformat_minor": 2
}
