{
 "cells": [
  {
   "cell_type": "code",
   "execution_count": 1,
   "metadata": {},
   "outputs": [
    {
     "name": "stdout",
     "output_type": "stream",
     "text": [
      "welcome to rock paper scissor, enter your choice to play or q to leave: \n",
      "you lost, computer chose paper\n",
      "you lost, computer chose paper\n",
      "your both chose same, draw\n",
      "you won, computer chose rock\n",
      "you won, computer chose rock\n",
      "you lost, computer chose paper\n",
      "computer won with 3.0 points\n"
     ]
    }
   ],
   "source": [
    "from random import randint\n",
    "choices=[\"rock\",\"paper\",\"scissor\"]\n",
    "print(\"welcome to rock paper scissor, enter your choice to play or q to leave: \")\n",
    "uscore=0.0\n",
    "cscore=0.0\n",
    "while (True):\n",
    "    comp=choices[randint(0,2)]\n",
    "    user=input(\"enter your choice: \")\n",
    "    if comp==\"scissor\" and user==\"rock\":\n",
    "        uscore+=1\n",
    "        print(f\"you won, computer chose {comp}\")\n",
    "    elif user==\"scissor\" and comp==\"rock\":\n",
    "        cscore+=1\n",
    "        print(f\"you lost, computer chose {comp}\")\n",
    "    elif comp==\"scissor\" and user==\"paper\":\n",
    "        uscore+=1\n",
    "        print(f\"you won, computer chose {comp}\")\n",
    "    elif user==\"scissor\" and comp==\"paper\":\n",
    "        cscore+=1\n",
    "        print(f\"you lost, computer chose {comp}\")\n",
    "    elif comp==\"rock\" and user==\"paper\":\n",
    "        uscore+=1\n",
    "        print(f\"you won, computer chose {comp}\")\n",
    "    elif user==\"rock\" and comp==\"paper\":\n",
    "        cscore+=1\n",
    "        print(f\"you lost, computer chose {comp}\")\n",
    "    elif user==comp:\n",
    "        print(\"your both chose same, draw\")\n",
    "    elif user==\"q\" or user==\"quit\":\n",
    "        if uscore>cscore:\n",
    "            print(f\"you won with {uscore} points\")\n",
    "            break\n",
    "        elif uscore<cscore:\n",
    "            print(f\"computer won with {cscore} points\")\n",
    "            break\n",
    "        else:\n",
    "            print(f\"its a draw with {uscore} points\")\n",
    "            break\n",
    "    else:\n",
    "        print(\"invalid choice try again\")\n",
    "        "
   ]
  }
 ],
 "metadata": {
  "kernelspec": {
   "display_name": "base",
   "language": "python",
   "name": "python3"
  },
  "language_info": {
   "codemirror_mode": {
    "name": "ipython",
    "version": 3
   },
   "file_extension": ".py",
   "mimetype": "text/x-python",
   "name": "python",
   "nbconvert_exporter": "python",
   "pygments_lexer": "ipython3",
   "version": "3.12.7"
  }
 },
 "nbformat": 4,
 "nbformat_minor": 2
}
