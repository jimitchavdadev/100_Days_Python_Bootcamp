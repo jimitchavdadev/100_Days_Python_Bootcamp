{
 "cells": [
  {
   "cell_type": "code",
   "execution_count": 3,
   "metadata": {},
   "outputs": [
    {
     "name": "stdout",
     "output_type": "stream",
     "text": [
      "welcome to the treasure island\n",
      "safe\n",
      "you win!\n"
     ]
    }
   ],
   "source": [
    "print(\"welcome to the treasure island\")\n",
    "choice1=input(\"left or right?\")\n",
    "if choice1==\"left\":\n",
    "    choice2=input(\"swim or wait?\")\n",
    "    if choice2==\"wait\":\n",
    "        choice3=input(\"which door? red blue or yellow?\")\n",
    "        if choice3==\"red\":\n",
    "            print(\"burned by fire, game over\")\n",
    "        elif choice3==\"blue\":\n",
    "            print(\"eaten by beasts, game over\")\n",
    "        elif choice3==\"yellow\":\n",
    "            print(\"you win!\")\n",
    "        else:\n",
    "            print(\"game over, you dont win\")\n",
    "    else:\n",
    "        print(\"attacked by a trout, game over\")\n",
    "else:\n",
    "    print(\"you fell in a hole, game over\")"
   ]
  }
 ],
 "metadata": {
  "kernelspec": {
   "display_name": "base",
   "language": "python",
   "name": "python3"
  },
  "language_info": {
   "codemirror_mode": {
    "name": "ipython",
    "version": 3
   },
   "file_extension": ".py",
   "mimetype": "text/x-python",
   "name": "python",
   "nbconvert_exporter": "python",
   "pygments_lexer": "ipython3",
   "version": "3.12.7"
  }
 },
 "nbformat": 4,
 "nbformat_minor": 2
}
